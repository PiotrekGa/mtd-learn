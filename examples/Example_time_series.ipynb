{
 "cells": [
  {
   "cell_type": "code",
   "execution_count": 1,
   "metadata": {
    "ExecuteTime": {
     "end_time": "2020-04-25T14:33:29.641839Z",
     "start_time": "2020-04-25T14:33:28.918490Z"
    }
   },
   "outputs": [],
   "source": [
    "import pandas as pd\n",
    "import numpy as np\n",
    "import seaborn as sns\n",
    "\n",
    "from mtdlearn.mtd import MTD, RandomWalk\n",
    "from mtdlearn.preprocessing import PathEncoder, SequenceCutter"
   ]
  },
  {
   "cell_type": "code",
   "execution_count": 2,
   "metadata": {
    "ExecuteTime": {
     "end_time": "2020-04-25T14:33:30.064696Z",
     "start_time": "2020-04-25T14:33:30.026918Z"
    }
   },
   "outputs": [],
   "source": [
    "df = pd.read_csv('euro_usd.csv')\n",
    "\n",
    "df['Change'] = df.Closing_rate.diff()\n",
    "\n",
    "df['Change_enc'] = np.nan\n",
    "\n",
    "df.loc[df.Change < 0.0, 'Change_enc'] = '1_DROP'\n",
    "df.loc[df.Change < -0.005, 'Change_enc'] = '0_BIG_DROP'\n",
    "df.loc[df.Change >= 0, 'Change_enc'] = '2_RISE'\n",
    "df.loc[df.Change >= 0.005, 'Change_enc'] = '3_BIG_RISE'\n",
    "\n",
    "df.dropna(inplace=True)"
   ]
  },
  {
   "cell_type": "markdown",
   "metadata": {},
   "source": [
    "## Fit models"
   ]
  },
  {
   "cell_type": "code",
   "execution_count": 3,
   "metadata": {
    "ExecuteTime": {
     "end_time": "2020-04-25T14:33:31.036223Z",
     "start_time": "2020-04-25T14:33:31.025157Z"
    }
   },
   "outputs": [],
   "source": [
    "aics = []\n",
    "bics = []"
   ]
  },
  {
   "cell_type": "code",
   "execution_count": 4,
   "metadata": {
    "ExecuteTime": {
     "end_time": "2020-04-25T14:33:37.168201Z",
     "start_time": "2020-04-25T14:33:37.130741Z"
    }
   },
   "outputs": [
    {
     "name": "stdout",
     "output_type": "stream",
     "text": [
      "log-likelihood value: -7580.052776968353\n",
      "15166.1 15186.0\n"
     ]
    }
   ],
   "source": [
    "order = 0\n",
    "\n",
    "pe = PathEncoder(0, return_vector=True, input_vector=True)\n",
    "y = pe.fit_transform(df.Change_enc.values.astype(str))\n",
    "\n",
    "model = RandomWalk(4)\n",
    "model.fit(y)\n",
    "\n",
    "aics.append(model.aic)\n",
    "bics.append(model.bic)\n",
    "\n",
    "print(model.aic.round(1), model.bic.round(1))"
   ]
  },
  {
   "cell_type": "code",
   "execution_count": 5,
   "metadata": {
    "ExecuteTime": {
     "end_time": "2020-04-25T14:33:48.320407Z",
     "start_time": "2020-04-25T14:33:47.398122Z"
    }
   },
   "outputs": [
    {
     "name": "stdout",
     "output_type": "stream",
     "text": [
      "log-likelihood value: -7559.338906203925\n",
      "15142.7 15222.1\n"
     ]
    }
   ],
   "source": [
    "order = 1\n",
    "\n",
    "sc = SequenceCutter(order)\n",
    "x, y = sc.transform(df.Change_enc.values)\n",
    "\n",
    "pe = PathEncoder(order)\n",
    "pe.fit(x, y)\n",
    "\n",
    "x_tr, y_tr = pe.transform(x, y)\n",
    "\n",
    "model = MTD(order=order, n_jobs=-1, number_of_initiations=100)\n",
    "model.fit(x_tr, y_tr)\n",
    "aics.append(model.aic)\n",
    "bics.append(model.bic)\n",
    "\n",
    "print(model.aic.round(1), model.bic.round(1))"
   ]
  },
  {
   "cell_type": "code",
   "execution_count": 6,
   "metadata": {
    "ExecuteTime": {
     "end_time": "2020-04-25T14:33:54.064824Z",
     "start_time": "2020-04-25T14:33:53.159437Z"
    }
   },
   "outputs": [
    {
     "name": "stdout",
     "output_type": "stream",
     "text": [
      "log-likelihood value: -7547.228509309229\n",
      "15136.5 15275.4\n"
     ]
    }
   ],
   "source": [
    "order = 2\n",
    "\n",
    "sc = SequenceCutter(order)\n",
    "x, y = sc.transform(df.Change_enc.values)\n",
    "\n",
    "pe = PathEncoder(order)\n",
    "pe.fit(x, y)\n",
    "\n",
    "x_tr, y_tr = pe.transform(x, y)\n",
    "\n",
    "model = MTD(order=order, n_jobs=-1, number_of_initiations=100)\n",
    "model.fit(x_tr, y_tr)\n",
    "aics.append(model.aic)\n",
    "bics.append(model.bic)\n",
    "\n",
    "print(model.aic.round(1), model.bic.round(1))"
   ]
  },
  {
   "cell_type": "code",
   "execution_count": 7,
   "metadata": {
    "ExecuteTime": {
     "end_time": "2020-04-25T14:34:05.256458Z",
     "start_time": "2020-04-25T14:33:59.373135Z"
    }
   },
   "outputs": [
    {
     "name": "stdout",
     "output_type": "stream",
     "text": [
      "log-likelihood value: -7535.262984448922\n",
      "15130.5 15329.0\n"
     ]
    }
   ],
   "source": [
    "order = 3\n",
    "\n",
    "sc = SequenceCutter(order)\n",
    "x, y = sc.transform(df.Change_enc.values)\n",
    "\n",
    "pe = PathEncoder(order)\n",
    "pe.fit(x, y)\n",
    "\n",
    "x_tr, y_tr = pe.transform(x, y)\n",
    "\n",
    "model = MTD(order=order, n_jobs=-1, number_of_initiations=100)\n",
    "model.fit(x_tr, y_tr)\n",
    "aics.append(model.aic)\n",
    "bics.append(model.bic)\n",
    "\n",
    "print(model.aic.round(1), model.bic.round(1))"
   ]
  },
  {
   "cell_type": "code",
   "execution_count": 8,
   "metadata": {
    "ExecuteTime": {
     "end_time": "2020-04-25T14:34:46.279514Z",
     "start_time": "2020-04-25T14:34:09.357742Z"
    }
   },
   "outputs": [
    {
     "name": "stdout",
     "output_type": "stream",
     "text": [
      "log-likelihood value: -7529.538580393596\n",
      "15137.1 15395.1\n"
     ]
    }
   ],
   "source": [
    "order = 4\n",
    "\n",
    "sc = SequenceCutter(order)\n",
    "x, y = sc.transform(df.Change_enc.values)\n",
    "\n",
    "pe = PathEncoder(order)\n",
    "pe.fit(x, y)\n",
    "\n",
    "x_tr, y_tr = pe.transform(x, y)\n",
    "\n",
    "model = MTD(order=order, n_jobs=-1, number_of_initiations=100)\n",
    "model.fit(x_tr, y_tr)\n",
    "aics.append(model.aic)\n",
    "bics.append(model.bic)\n",
    "\n",
    "print(model.aic.round(1), model.bic.round(1))"
   ]
  },
  {
   "cell_type": "markdown",
   "metadata": {},
   "source": [
    "## Choose model"
   ]
  },
  {
   "cell_type": "code",
   "execution_count": 9,
   "metadata": {
    "ExecuteTime": {
     "end_time": "2020-04-25T14:34:46.286667Z",
     "start_time": "2020-04-25T14:34:46.282140Z"
    }
   },
   "outputs": [],
   "source": [
    "xs = [0, 1, 2, 3, 4]"
   ]
  },
  {
   "cell_type": "code",
   "execution_count": 10,
   "metadata": {
    "ExecuteTime": {
     "end_time": "2020-04-25T14:34:46.523644Z",
     "start_time": "2020-04-25T14:34:46.291929Z"
    }
   },
   "outputs": [
    {
     "data": {
      "image/png": "[encoded data removed]",
      "text/plain": [
       "<Figure size 432x288 with 1 Axes>"
      ]
     },
     "metadata": {
      "needs_background": "light"
     },
     "output_type": "display_data"
    }
   ],
   "source": [
    "sns.lineplot(x=xs, y=aics)\n",
    "sns.lineplot(x=xs, y=bics);"
   ]
  }
 ],
 "metadata": {
  "jupytext": {
   "formats": "ipynb,py:light"
  },
  "kernelspec": {
   "display_name": "Python 3",
   "language": "python",
   "name": "python3"
  },
  "language_info": {
   "codemirror_mode": {
    "name": "ipython",
    "version": 3
   },
   "file_extension": ".py",
   "mimetype": "text/x-python",
   "name": "python",
   "nbconvert_exporter": "python",
   "pygments_lexer": "ipython3",
   "version": "3.6.7"
  }
 },
 "nbformat": 4,
 "nbformat_minor": 2
}
