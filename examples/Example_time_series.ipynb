{
 "cells": [
  {
   "cell_type": "code",
   "execution_count": 1,
   "metadata": {},
   "outputs": [],
   "source": [
    "import pandas as pd\n",
    "import numpy as np\n",
    "import seaborn as sns\n",
    "\n",
    "from mtdlearn.mtd import MTD\n",
    "from mtdlearn.preprocessing import PathEncoder"
   ]
  },
  {
   "cell_type": "code",
   "execution_count": 2,
   "metadata": {},
   "outputs": [
    {
     "data": {
      "text/plain": [
       "0_BIG_DROP    1178\n",
       "1_DROP        1511\n",
       "2_RISE        1680\n",
       "3_BIG_RISE    1147\n",
       "Name: Change_enc, dtype: int64"
      ]
     },
     "execution_count": 2,
     "metadata": {},
     "output_type": "execute_result"
    }
   ],
   "source": [
    "df = pd.read_csv('euro_usd.csv')\n",
    "\n",
    "df['Change'] = df.Closing_rate.diff()\n",
    "\n",
    "df['Change_enc'] = np.nan\n",
    "\n",
    "df.loc[df.Change < 0.0, 'Change_enc'] = '1_DROP'\n",
    "df.loc[df.Change < -0.005, 'Change_enc'] = '0_BIG_DROP'\n",
    "df.loc[df.Change >= 0, 'Change_enc'] = '2_RISE'\n",
    "df.loc[df.Change >= 0.005, 'Change_enc'] = '3_BIG_RISE'\n",
    "\n",
    "\n",
    "df['Change_lagged_1'] = df.Change_enc.shift(1)\n",
    "df['Change_lagged_2'] = df.Change_enc.shift(2)\n",
    "df['Change_lagged_3'] = df.Change_enc.shift(3)\n",
    "df['Change_lagged_4'] = df.Change_enc.shift(4)\n",
    "\n",
    "df.dropna(inplace=True)\n",
    "\n",
    "x = df.Change_lagged_4 + '>' + df.Change_lagged_3 + '>' + df.Change_lagged_2 + '>' + df.Change_lagged_1\n",
    "y = df.Change_enc\n",
    "\n",
    "x = x.values.astype(str).reshape(-1, 1)\n",
    "y = y.values.astype(str)\n",
    "\n",
    "df.Change_enc.value_counts().sort_index()"
   ]
  },
  {
   "cell_type": "markdown",
   "metadata": {},
   "source": [
    "## Fit models"
   ]
  },
  {
   "cell_type": "code",
   "execution_count": 3,
   "metadata": {},
   "outputs": [],
   "source": [
    "aics = []\n",
    "bics = []"
   ]
  },
  {
   "cell_type": "code",
   "execution_count": 4,
   "metadata": {},
   "outputs": [
    {
     "name": "stdout",
     "output_type": "stream",
     "text": [
      "best value: -7554.942062082113\n",
      "15133.9 15213.3\n"
     ]
    }
   ],
   "source": [
    "order = 1\n",
    "pe = PathEncoder(order)\n",
    "pe.fit(x, y)\n",
    "\n",
    "x_tr, y_tr = pe.transform(x, y)\n",
    "\n",
    "model = MTD(n_dimensions=4, order=order, n_jobs=-1, number_of_initiations=100)\n",
    "model.fit(x_tr, y_tr)\n",
    "aics.append(model.aic)\n",
    "bics.append(model.bic)\n",
    "\n",
    "print(model.aic.round(1), model.bic.round(1))"
   ]
  },
  {
   "cell_type": "code",
   "execution_count": 5,
   "metadata": {},
   "outputs": [
    {
     "name": "stdout",
     "output_type": "stream",
     "text": [
      "best value: -7544.611105042082\n",
      "15131.2 15270.1\n"
     ]
    }
   ],
   "source": [
    "order = 2\n",
    "pe = PathEncoder(order)\n",
    "pe.fit(x, y)\n",
    "\n",
    "x_tr, y_tr = pe.transform(x, y)\n",
    "\n",
    "model = MTD(n_dimensions=4, order=order, n_jobs=-1, number_of_initiations=100)\n",
    "model.fit(x_tr, y_tr)\n",
    "aics.append(model.aic)\n",
    "bics.append(model.bic)\n",
    "\n",
    "print(model.aic.round(1), model.bic.round(1))"
   ]
  },
  {
   "cell_type": "code",
   "execution_count": 6,
   "metadata": {},
   "outputs": [
    {
     "name": "stdout",
     "output_type": "stream",
     "text": [
      "best value: -7534.134927385597\n",
      "15128.3 15326.7\n"
     ]
    }
   ],
   "source": [
    "order = 3\n",
    "pe = PathEncoder(order)\n",
    "pe.fit(x, y)\n",
    "\n",
    "x_tr, y_tr = pe.transform(x, y)\n",
    "\n",
    "model = MTD(n_dimensions=4, order=order, n_jobs=-1, number_of_initiations=100)\n",
    "model.fit(x_tr, y_tr)\n",
    "aics.append(model.aic)\n",
    "bics.append(model.bic)\n",
    "\n",
    "print(model.aic.round(1), model.bic.round(1))"
   ]
  },
  {
   "cell_type": "code",
   "execution_count": 7,
   "metadata": {},
   "outputs": [
    {
     "name": "stdout",
     "output_type": "stream",
     "text": [
      "best value: -7530.15345047589\n",
      "15138.3 15396.3\n"
     ]
    }
   ],
   "source": [
    "order = 4\n",
    "pe = PathEncoder(order)\n",
    "pe.fit(x, y)\n",
    "\n",
    "x_tr, y_tr = pe.transform(x, y)\n",
    "\n",
    "model = MTD(n_dimensions=4, order=order, n_jobs=-1, number_of_initiations=100)\n",
    "model.fit(x_tr, y_tr)\n",
    "aics.append(model.aic)\n",
    "bics.append(model.bic)\n",
    "\n",
    "print(model.aic.round(1), model.bic.round(1))"
   ]
  },
  {
   "cell_type": "markdown",
   "metadata": {},
   "source": [
    "## Choose model"
   ]
  },
  {
   "cell_type": "code",
   "execution_count": 8,
   "metadata": {},
   "outputs": [
    {
     "data": {
      "image/png": "[encoded data removed]",
      "text/plain": [
       "<Figure size 432x288 with 1 Axes>"
      ]
     },
     "metadata": {
      "needs_background": "light"
     },
     "output_type": "display_data"
    }
   ],
   "source": [
    "sns.lineplot(x=[1, 2, 3, 4], y=aics)\n",
    "sns.lineplot(x=[1, 2, 3, 4], y=bics);"
   ]
  }
 ],
 "metadata": {
  "jupytext": {
   "formats": "ipynb,py:light"
  },
  "kernelspec": {
   "display_name": "Python 3",
   "language": "python",
   "name": "python3"
  },
  "language_info": {
   "codemirror_mode": {
    "name": "ipython",
    "version": 3
   },
   "file_extension": ".py",
   "mimetype": "text/x-python",
   "name": "python",
   "nbconvert_exporter": "python",
   "pygments_lexer": "ipython3",
   "version": "3.7.6"
  }
 },
 "nbformat": 4,
 "nbformat_minor": 4
}
