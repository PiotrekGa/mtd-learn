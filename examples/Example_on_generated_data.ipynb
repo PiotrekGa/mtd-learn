{
 "cells": [
  {
   "cell_type": "code",
   "execution_count": 1,
   "metadata": {},
   "outputs": [],
   "source": [
    "import numpy as np\n",
    "import seaborn as sns\n",
    "import matplotlib.pyplot as plt\n",
    "\n",
    "from mtdlearn.mtd import MTD\n",
    "from mtdlearn.preprocessing import PathEncoder\n",
    "from mtdlearn.datasets import data_values3_order2_full\n",
    "\n",
    "import warnings\n",
    "warnings.filterwarnings(\"ignore\")"
   ]
  },
  {
   "cell_type": "markdown",
   "metadata": {},
   "source": [
    "## Import data"
   ]
  },
  {
   "cell_type": "code",
   "execution_count": 2,
   "metadata": {},
   "outputs": [],
   "source": [
    "x = data_values3_order2_full['x']\n",
    "y = data_values3_order2_full['y']\n",
    "sample_weight = data_values3_order2_full['sample_weight']"
   ]
  },
  {
   "cell_type": "code",
   "execution_count": 5,
   "metadata": {},
   "outputs": [
    {
     "data": {
      "text/plain": [
       "array([['A>A>A'],\n",
       "       ['A>A>B'],\n",
       "       ['A>A>C'],\n",
       "       ['A>B>A'],\n",
       "       ['A>B>A'],\n",
       "       ['A>B>A'],\n",
       "       ['A>B>B'],\n",
       "       ['A>B>B'],\n",
       "       ['A>B>B'],\n",
       "       ['A>B>C'],\n",
       "       ['A>B>C'],\n",
       "       ['A>B>C'],\n",
       "       ['A>C>A'],\n",
       "       ['A>C>A'],\n",
       "       ['A>C>A'],\n",
       "       ['A>C>B'],\n",
       "       ['A>C>B'],\n",
       "       ['A>C>B'],\n",
       "       ['A>C>C'],\n",
       "       ['A>C>C'],\n",
       "       ['A>C>C'],\n",
       "       ['B>A>A'],\n",
       "       ['B>A>A'],\n",
       "       ['B>A>A'],\n",
       "       ['B>A>B'],\n",
       "       ['B>A>B'],\n",
       "       ['B>A>B'],\n",
       "       ['B>A>C'],\n",
       "       ['B>A>C'],\n",
       "       ['B>A>C'],\n",
       "       ['B>B>A'],\n",
       "       ['B>B>A'],\n",
       "       ['B>B>A'],\n",
       "       ['B>B>B'],\n",
       "       ['B>B>B'],\n",
       "       ['B>B>B'],\n",
       "       ['B>B>C'],\n",
       "       ['B>B>C'],\n",
       "       ['B>B>C'],\n",
       "       ['B>C>A'],\n",
       "       ['B>C>A'],\n",
       "       ['B>C>A'],\n",
       "       ['B>C>B'],\n",
       "       ['B>C>B'],\n",
       "       ['B>C>B'],\n",
       "       ['B>C>C'],\n",
       "       ['B>C>C'],\n",
       "       ['B>C>C'],\n",
       "       ['C>A>A'],\n",
       "       ['C>A>A'],\n",
       "       ['C>A>A'],\n",
       "       ['C>A>B'],\n",
       "       ['C>A>B'],\n",
       "       ['C>A>B'],\n",
       "       ['C>A>C'],\n",
       "       ['C>A>C'],\n",
       "       ['C>A>C'],\n",
       "       ['C>B>A'],\n",
       "       ['C>B>A'],\n",
       "       ['C>B>A'],\n",
       "       ['C>B>B'],\n",
       "       ['C>B>B'],\n",
       "       ['C>B>B'],\n",
       "       ['C>B>C'],\n",
       "       ['C>B>C'],\n",
       "       ['C>B>C'],\n",
       "       ['C>C>A'],\n",
       "       ['C>C>A'],\n",
       "       ['C>C>A'],\n",
       "       ['C>C>B'],\n",
       "       ['C>C>B'],\n",
       "       ['C>C>B'],\n",
       "       ['C>C>C'],\n",
       "       ['C>C>C'],\n",
       "       ['C>C>C']], dtype='<U5')"
      ]
     },
     "execution_count": 5,
     "metadata": {},
     "output_type": "execute_result"
    }
   ],
   "source": [
    "x"
   ]
  },
  {
   "cell_type": "code",
   "execution_count": 3,
   "metadata": {},
   "outputs": [
    {
     "data": {
      "text/plain": [
       "array([['A>A>A'],\n",
       "       ['A>A>B'],\n",
       "       ['A>A>C'],\n",
       "       ['A>B>A'],\n",
       "       ['A>B>A']], dtype='<U5')"
      ]
     },
     "execution_count": 3,
     "metadata": {},
     "output_type": "execute_result"
    }
   ],
   "source": [
    "x[:5]"
   ]
  },
  {
   "cell_type": "code",
   "execution_count": 27,
   "metadata": {},
   "outputs": [
    {
     "data": {
      "text/plain": [
       "array(['A', 'A', 'A', 'A', 'B'], dtype='<U1')"
      ]
     },
     "execution_count": 27,
     "metadata": {},
     "output_type": "execute_result"
    }
   ],
   "source": [
    "y[:5]"
   ]
  },
  {
   "cell_type": "code",
   "execution_count": 28,
   "metadata": {},
   "outputs": [
    {
     "data": {
      "text/plain": [
       "array([1000, 1000, 1000,  100,  100])"
      ]
     },
     "execution_count": 28,
     "metadata": {},
     "output_type": "execute_result"
    }
   ],
   "source": [
    "sample_weight[:5]"
   ]
  },
  {
   "cell_type": "markdown",
   "metadata": {},
   "source": [
    "## Encode paths"
   ]
  },
  {
   "cell_type": "code",
   "execution_count": 29,
   "metadata": {},
   "outputs": [
    {
     "data": {
      "text/plain": [
       "PathEncoder(order=3, r_just_string='null', sep='>')"
      ]
     },
     "execution_count": 29,
     "metadata": {},
     "output_type": "execute_result"
    }
   ],
   "source": [
    "pe = PathEncoder(3)\n",
    "pe.fit(x, y)"
   ]
  },
  {
   "cell_type": "code",
   "execution_count": 30,
   "metadata": {},
   "outputs": [
    {
     "data": {
      "text/plain": [
       "{'A': 0, 'B': 1, 'C': 2, 'null': 3}"
      ]
     },
     "execution_count": 30,
     "metadata": {},
     "output_type": "execute_result"
    }
   ],
   "source": [
    "pe.label_dict"
   ]
  },
  {
   "cell_type": "code",
   "execution_count": 8,
   "metadata": {},
   "outputs": [],
   "source": [
    "x_tr3, y_tr3 = pe.transform(x, y)"
   ]
  },
  {
   "cell_type": "code",
   "execution_count": 9,
   "metadata": {},
   "outputs": [
    {
     "data": {
      "text/plain": [
       "array([[0, 0, 0],\n",
       "       [0, 0, 1],\n",
       "       [0, 0, 2],\n",
       "       [0, 1, 0],\n",
       "       [0, 1, 0]])"
      ]
     },
     "execution_count": 9,
     "metadata": {},
     "output_type": "execute_result"
    }
   ],
   "source": [
    "x_tr3[:5]"
   ]
  },
  {
   "cell_type": "code",
   "execution_count": 10,
   "metadata": {},
   "outputs": [
    {
     "data": {
      "text/plain": [
       "array([0, 0, 0, 0, 1])"
      ]
     },
     "execution_count": 10,
     "metadata": {},
     "output_type": "execute_result"
    }
   ],
   "source": [
    "y_tr3[:5]"
   ]
  },
  {
   "cell_type": "markdown",
   "metadata": {},
   "source": [
    "## Fitting model"
   ]
  },
  {
   "cell_type": "code",
   "execution_count": 31,
   "metadata": {},
   "outputs": [],
   "source": [
    "model = MTD(n_dimensions=3, order=3)"
   ]
  },
  {
   "cell_type": "code",
   "execution_count": 32,
   "metadata": {},
   "outputs": [
    {
     "name": "stdout",
     "output_type": "stream",
     "text": [
      "best value: -81.85092905482018\n"
     ]
    }
   ],
   "source": [
    "model.fit(x_tr3, y_tr3)"
   ]
  },
  {
   "cell_type": "markdown",
   "metadata": {},
   "source": [
    "## Information criteria"
   ]
  },
  {
   "cell_type": "code",
   "execution_count": 130,
   "metadata": {},
   "outputs": [
    {
     "data": {
      "text/plain": [
       "191.70185810964037"
      ]
     },
     "execution_count": 130,
     "metadata": {},
     "output_type": "execute_result"
    }
   ],
   "source": [
    "model.aic"
   ]
  },
  {
   "cell_type": "code",
   "execution_count": 33,
   "metadata": {},
   "outputs": [
    {
     "data": {
      "text/plain": [
       "224.1466916991487"
      ]
     },
     "execution_count": 33,
     "metadata": {},
     "output_type": "execute_result"
    }
   ],
   "source": [
    "model.bic"
   ]
  },
  {
   "cell_type": "markdown",
   "metadata": {},
   "source": [
    "## Trained parameters"
   ]
  },
  {
   "cell_type": "code",
   "execution_count": 50,
   "metadata": {},
   "outputs": [
    {
     "data": {
      "text/plain": [
       "array([0.329, 0.564, 0.107])"
      ]
     },
     "execution_count": 50,
     "metadata": {},
     "output_type": "execute_result"
    }
   ],
   "source": [
    "model.lambdas.round(3)"
   ]
  },
  {
   "cell_type": "code",
   "execution_count": 51,
   "metadata": {},
   "outputs": [
    {
     "data": {
      "text/plain": [
       "array([[[0.468, 0.276, 0.257],\n",
       "        [0.254, 0.326, 0.421],\n",
       "        [0.305, 0.318, 0.377]],\n",
       "\n",
       "       [[0.443, 0.315, 0.241],\n",
       "        [0.372, 0.357, 0.271],\n",
       "        [0.357, 0.348, 0.296]],\n",
       "\n",
       "       [[0.176, 0.163, 0.662],\n",
       "        [0.398, 0.224, 0.378],\n",
       "        [0.325, 0.293, 0.382]]])"
      ]
     },
     "execution_count": 51,
     "metadata": {},
     "output_type": "execute_result"
    }
   ],
   "source": [
    "model.transition_matrices.round(3)"
   ]
  },
  {
   "cell_type": "code",
   "execution_count": 137,
   "metadata": {},
   "outputs": [
    {
     "data": {
      "image/png": "[encoded data removed]",
      "text/plain": [
       "<Figure size 432x288 with 1 Axes>"
      ]
     },
     "metadata": {
      "needs_background": "light"
     },
     "output_type": "display_data"
    }
   ],
   "source": [
    "sns.barplot(x=[f'{abs(i-3)} lag' for i in range(model.order)], y=model.lambdas, palette='Reds');"
   ]
  },
  {
   "cell_type": "code",
   "execution_count": 118,
   "metadata": {},
   "outputs": [
    {
     "data": {
      "image/png": "[encoded data removed]",
      "text/plain": [
       "<Figure size 864x288 with 4 Axes>"
      ]
     },
     "metadata": {
      "needs_background": "light"
     },
     "output_type": "display_data"
    }
   ],
   "source": [
    "fig, axn = plt.subplots(1, 3, sharex=True, sharey=True, figsize=(12, 4))\n",
    "cbar_ax = fig.add_axes([.91, .3, .03, .4])\n",
    "\n",
    "for i, ax in enumerate(axn.flat):\n",
    "    sns.heatmap(model.transition_matrices[i], ax=ax,\n",
    "                cbar=i == 0,\n",
    "                vmin=0, vmax=1,\n",
    "                cmap='Reds',\n",
    "                cbar_ax=None if i else cbar_ax)\n",
    "    ax.set_title(f'{3-i} lag')\n",
    "\n",
    "fig.tight_layout(rect=[0, 0, .9, 1]);"
   ]
  },
  {
   "cell_type": "markdown",
   "metadata": {},
   "source": [
    "## Predict"
   ]
  },
  {
   "cell_type": "code",
   "execution_count": 45,
   "metadata": {},
   "outputs": [
    {
     "data": {
      "text/plain": [
       "array([0, 2, 0])"
      ]
     },
     "execution_count": 45,
     "metadata": {},
     "output_type": "execute_result"
    }
   ],
   "source": [
    "model.predict(pe.transform(np.array([['A>B>C'], ['B>B>A'], ['C>C>C']])))"
   ]
  },
  {
   "cell_type": "code",
   "execution_count": 46,
   "metadata": {},
   "outputs": [
    {
     "data": {
      "text/plain": [
       "array([[0.39856197, 0.32330497, 0.27813305],\n",
       "       [0.31221481, 0.32581974, 0.36196545],\n",
       "       [0.33610053, 0.33222156, 0.33167791]])"
      ]
     },
     "execution_count": 46,
     "metadata": {},
     "output_type": "execute_result"
    }
   ],
   "source": [
    "model.predict_proba(pe.transform(np.array([['A>B>C'], ['B>B>A'], ['C>C>C']])))"
   ]
  }
 ],
 "metadata": {
  "jupytext": {
   "formats": "ipynb,py:light"
  },
  "kernelspec": {
   "display_name": "Python 3",
   "language": "python",
   "name": "python3"
  },
  "language_info": {
   "codemirror_mode": {
    "name": "ipython",
    "version": 3
   },
   "file_extension": ".py",
   "mimetype": "text/x-python",
   "name": "python",
   "nbconvert_exporter": "python",
   "pygments_lexer": "ipython3",
   "version": "3.7.6"
  }
 },
 "nbformat": 4,
 "nbformat_minor": 4
}
