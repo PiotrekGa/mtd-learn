{
 "cells": [
  {
   "cell_type": "code",
   "execution_count": 1,
   "metadata": {
    "ExecuteTime": {
     "end_time": "2020-04-25T14:32:10.974865Z",
     "start_time": "2020-04-25T14:32:10.227208Z"
    }
   },
   "outputs": [],
   "source": [
    "import numpy as np\n",
    "import seaborn as sns\n",
    "import matplotlib.pyplot as plt\n",
    "\n",
    "from mtdlearn.mtd import MTD\n",
    "from mtdlearn.preprocessing import PathEncoder\n",
    "from mtdlearn.datasets import ChainGenerator\n",
    "\n",
    "import warnings\n",
    "warnings.filterwarnings(\"ignore\")"
   ]
  },
  {
   "cell_type": "markdown",
   "metadata": {},
   "source": [
    "## Generate data"
   ]
  },
  {
   "cell_type": "code",
   "execution_count": 4,
   "metadata": {
    "ExecuteTime": {
     "end_time": "2020-04-25T14:32:18.960090Z",
     "start_time": "2020-04-25T14:32:18.946316Z"
    }
   },
   "outputs": [],
   "source": [
    "cg = ChainGenerator(('A', 'B', 'C'), 3, min_len=4, max_len=5)"
   ]
  },
  {
   "cell_type": "code",
   "execution_count": 5,
   "metadata": {
    "ExecuteTime": {
     "end_time": "2020-04-25T14:32:20.451340Z",
     "start_time": "2020-04-25T14:32:20.320873Z"
    }
   },
   "outputs": [],
   "source": [
    "x, y = cg.generate_data(1000)"
   ]
  },
  {
   "cell_type": "code",
   "execution_count": 6,
   "metadata": {
    "ExecuteTime": {
     "end_time": "2020-04-25T14:32:21.605546Z",
     "start_time": "2020-04-25T14:32:21.600123Z"
    }
   },
   "outputs": [
    {
     "data": {
      "text/plain": [
       "array([['A>B>B>C'],\n",
       "       ['B>B>C>C'],\n",
       "       ['A>C>B>A'],\n",
       "       ['C>B>A>B'],\n",
       "       ['A>C>A>A']], dtype='<U9')"
      ]
     },
     "execution_count": 6,
     "metadata": {},
     "output_type": "execute_result"
    }
   ],
   "source": [
    "x[:5]"
   ]
  },
  {
   "cell_type": "code",
   "execution_count": 7,
   "metadata": {
    "ExecuteTime": {
     "end_time": "2020-04-25T14:32:23.588699Z",
     "start_time": "2020-04-25T14:32:23.570623Z"
    }
   },
   "outputs": [
    {
     "data": {
      "text/plain": [
       "array(['C', 'C', 'C', 'C', 'B'], dtype='<U1')"
      ]
     },
     "execution_count": 7,
     "metadata": {},
     "output_type": "execute_result"
    }
   ],
   "source": [
    "y[:5]"
   ]
  },
  {
   "cell_type": "markdown",
   "metadata": {},
   "source": [
    "## Encode paths"
   ]
  },
  {
   "cell_type": "code",
   "execution_count": 8,
   "metadata": {
    "ExecuteTime": {
     "end_time": "2020-04-25T14:32:28.199259Z",
     "start_time": "2020-04-25T14:32:28.175388Z"
    }
   },
   "outputs": [
    {
     "data": {
      "text/plain": [
       "PathEncoder(input_vector=False, order=3, r_just_string='null',\n",
       "            return_vector=False, sep='>')"
      ]
     },
     "execution_count": 8,
     "metadata": {},
     "output_type": "execute_result"
    }
   ],
   "source": [
    "pe = PathEncoder(3)\n",
    "pe.fit(x, y)"
   ]
  },
  {
   "cell_type": "code",
   "execution_count": 9,
   "metadata": {
    "ExecuteTime": {
     "end_time": "2020-04-25T14:32:28.787490Z",
     "start_time": "2020-04-25T14:32:28.771907Z"
    }
   },
   "outputs": [
    {
     "data": {
      "text/plain": [
       "{'A': 0, 'B': 1, 'C': 2, 'null': 3}"
      ]
     },
     "execution_count": 9,
     "metadata": {},
     "output_type": "execute_result"
    }
   ],
   "source": [
    "pe.label_dict"
   ]
  },
  {
   "cell_type": "code",
   "execution_count": 10,
   "metadata": {
    "ExecuteTime": {
     "end_time": "2020-04-25T14:32:29.828399Z",
     "start_time": "2020-04-25T14:32:29.807887Z"
    }
   },
   "outputs": [],
   "source": [
    "x_tr3, y_tr3 = pe.transform(x, y)"
   ]
  },
  {
   "cell_type": "code",
   "execution_count": 11,
   "metadata": {
    "ExecuteTime": {
     "end_time": "2020-04-25T14:32:29.888469Z",
     "start_time": "2020-04-25T14:32:29.884599Z"
    }
   },
   "outputs": [
    {
     "data": {
      "text/plain": [
       "array([[1, 1, 2],\n",
       "       [1, 2, 2],\n",
       "       [2, 1, 0],\n",
       "       [1, 0, 1],\n",
       "       [2, 0, 0]])"
      ]
     },
     "execution_count": 11,
     "metadata": {},
     "output_type": "execute_result"
    }
   ],
   "source": [
    "x_tr3[:5]"
   ]
  },
  {
   "cell_type": "code",
   "execution_count": 12,
   "metadata": {
    "ExecuteTime": {
     "end_time": "2020-04-25T14:32:31.437190Z",
     "start_time": "2020-04-25T14:32:31.432540Z"
    }
   },
   "outputs": [
    {
     "data": {
      "text/plain": [
       "array([2, 2, 2, 2, 1])"
      ]
     },
     "execution_count": 12,
     "metadata": {},
     "output_type": "execute_result"
    }
   ],
   "source": [
    "y_tr3[:5]"
   ]
  },
  {
   "cell_type": "markdown",
   "metadata": {},
   "source": [
    "## Fitting model"
   ]
  },
  {
   "cell_type": "code",
   "execution_count": 13,
   "metadata": {
    "ExecuteTime": {
     "end_time": "2020-04-25T14:32:40.644638Z",
     "start_time": "2020-04-25T14:32:40.628794Z"
    }
   },
   "outputs": [],
   "source": [
    "model = MTD(order=3)"
   ]
  },
  {
   "cell_type": "code",
   "execution_count": 14,
   "metadata": {
    "ExecuteTime": {
     "end_time": "2020-04-25T14:32:42.294388Z",
     "start_time": "2020-04-25T14:32:41.180808Z"
    }
   },
   "outputs": [
    {
     "name": "stdout",
     "output_type": "stream",
     "text": [
      "log-likelihood value: -990.6104938352795\n"
     ]
    }
   ],
   "source": [
    "model.fit(x_tr3, y_tr3)"
   ]
  },
  {
   "cell_type": "markdown",
   "metadata": {},
   "source": [
    "## Information criteria"
   ]
  },
  {
   "cell_type": "code",
   "execution_count": 15,
   "metadata": {
    "ExecuteTime": {
     "end_time": "2020-04-25T14:32:44.489848Z",
     "start_time": "2020-04-25T14:32:44.481227Z"
    }
   },
   "outputs": [
    {
     "data": {
      "text/plain": [
       "2009.220987670559"
      ]
     },
     "execution_count": 15,
     "metadata": {},
     "output_type": "execute_result"
    }
   ],
   "source": [
    "model.aic"
   ]
  },
  {
   "cell_type": "code",
   "execution_count": 16,
   "metadata": {
    "ExecuteTime": {
     "end_time": "2020-04-25T14:32:45.094917Z",
     "start_time": "2020-04-25T14:32:45.077490Z"
    }
   },
   "outputs": [
    {
     "data": {
      "text/plain": [
       "2077.929561576309"
      ]
     },
     "execution_count": 16,
     "metadata": {},
     "output_type": "execute_result"
    }
   ],
   "source": [
    "model.bic"
   ]
  },
  {
   "cell_type": "markdown",
   "metadata": {},
   "source": [
    "## Trained parameters"
   ]
  },
  {
   "cell_type": "code",
   "execution_count": 17,
   "metadata": {
    "ExecuteTime": {
     "end_time": "2020-04-25T14:32:48.275128Z",
     "start_time": "2020-04-25T14:32:48.267360Z"
    }
   },
   "outputs": [
    {
     "data": {
      "text/plain": [
       "array([0.208, 0.382, 0.411])"
      ]
     },
     "execution_count": 17,
     "metadata": {},
     "output_type": "execute_result"
    }
   ],
   "source": [
    "model.lambdas.round(3)"
   ]
  },
  {
   "cell_type": "code",
   "execution_count": 18,
   "metadata": {
    "ExecuteTime": {
     "end_time": "2020-04-25T14:32:49.255870Z",
     "start_time": "2020-04-25T14:32:49.251150Z"
    }
   },
   "outputs": [
    {
     "data": {
      "text/plain": [
       "array([[[0.202, 0.454, 0.344],\n",
       "        [0.108, 0.001, 0.892],\n",
       "        [0.549, 0.39 , 0.061]],\n",
       "\n",
       "       [[0.382, 0.115, 0.503],\n",
       "        [0.354, 0.431, 0.215],\n",
       "        [0.139, 0.031, 0.83 ]],\n",
       "\n",
       "       [[0.073, 0.552, 0.375],\n",
       "        [0.21 , 0.405, 0.386],\n",
       "        [0.136, 0.309, 0.555]]])"
      ]
     },
     "execution_count": 18,
     "metadata": {},
     "output_type": "execute_result"
    }
   ],
   "source": [
    "model.transition_matrices.round(3)"
   ]
  },
  {
   "cell_type": "code",
   "execution_count": 19,
   "metadata": {
    "ExecuteTime": {
     "end_time": "2020-04-25T14:32:51.631535Z",
     "start_time": "2020-04-25T14:32:51.499519Z"
    }
   },
   "outputs": [
    {
     "data": {
      "image/png": "[encoded data removed]",
      "text/plain": [
       "<Figure size 432x288 with 1 Axes>"
      ]
     },
     "metadata": {
      "needs_background": "light"
     },
     "output_type": "display_data"
    }
   ],
   "source": [
    "sns.barplot(x=[f't - {abs(i-3)}' for i in range(model.order)], y=model.lambdas, palette='Reds');"
   ]
  },
  {
   "cell_type": "code",
   "execution_count": 20,
   "metadata": {
    "ExecuteTime": {
     "end_time": "2020-04-25T14:32:54.547230Z",
     "start_time": "2020-04-25T14:32:54.157039Z"
    }
   },
   "outputs": [
    {
     "data": {
      "image/png": "[encoded data removed]",
      "text/plain": [
       "<Figure size 864x288 with 4 Axes>"
      ]
     },
     "metadata": {
      "needs_background": "light"
     },
     "output_type": "display_data"
    }
   ],
   "source": [
    "fig, axn = plt.subplots(1, 3, sharex=True, sharey=True, figsize=(12, 4))\n",
    "cbar_ax = fig.add_axes([.91, .3, .03, .4])\n",
    "\n",
    "for i, ax in enumerate(axn.flat):\n",
    "    sns.heatmap(model.transition_matrices[i], ax=ax,\n",
    "                cbar=i == 0,\n",
    "                vmin=0, vmax=1,\n",
    "                cmap='Reds',\n",
    "                cbar_ax=None if i else cbar_ax)\n",
    "    ax.set_title(f't - {3-i}')\n",
    "\n",
    "fig.tight_layout(rect=[0, 0, .9, 1]);"
   ]
  },
  {
   "cell_type": "markdown",
   "metadata": {},
   "source": [
    "## Predict"
   ]
  },
  {
   "cell_type": "code",
   "execution_count": 21,
   "metadata": {
    "ExecuteTime": {
     "end_time": "2020-04-25T14:32:57.691386Z",
     "start_time": "2020-04-25T14:32:57.686617Z"
    }
   },
   "outputs": [
    {
     "data": {
      "text/plain": [
       "array([1, 2, 2])"
      ]
     },
     "execution_count": 21,
     "metadata": {},
     "output_type": "execute_result"
    }
   ],
   "source": [
    "model.predict(pe.transform(np.array([['A>B>C'], ['B>B>A'], ['C>C>C']])))"
   ]
  },
  {
   "cell_type": "code",
   "execution_count": 22,
   "metadata": {
    "ExecuteTime": {
     "end_time": "2020-04-25T14:32:59.004343Z",
     "start_time": "2020-04-25T14:32:58.985112Z"
    }
   },
   "outputs": [
    {
     "data": {
      "text/plain": [
       "array([[0.23317049, 0.38547366, 0.38135585],\n",
       "       [0.18752007, 0.39125173, 0.4212282 ],\n",
       "       [0.22318062, 0.21948169, 0.55733768]])"
      ]
     },
     "execution_count": 22,
     "metadata": {},
     "output_type": "execute_result"
    }
   ],
   "source": [
    "model.predict_proba(pe.transform(np.array([['A>B>C'], ['B>B>A'], ['C>C>C']])))"
   ]
  }
 ],
 "metadata": {
  "jupytext": {
   "formats": "ipynb,py:light"
  },
  "kernelspec": {
   "display_name": "Python 3",
   "language": "python",
   "name": "python3"
  },
  "language_info": {
   "codemirror_mode": {
    "name": "ipython",
    "version": 3
   },
   "file_extension": ".py",
   "mimetype": "text/x-python",
   "name": "python",
   "nbconvert_exporter": "python",
   "pygments_lexer": "ipython3",
   "version": "3.6.7"
  }
 },
 "nbformat": 4,
 "nbformat_minor": 2
}
